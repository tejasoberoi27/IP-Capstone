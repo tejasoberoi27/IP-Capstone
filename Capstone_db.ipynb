{
  "cells": [
    {
      "cell_type": "code",
      "execution_count": 9,
      "metadata": {
        "pycharm": {
          "is_executing": false
        }
      },
      "outputs": [],
      "source": "import os\nimport pandas as pd\nimport pickle\nimport nltk\nimport codecs\nfrom fuzzywuzzy import fuzz \nfrom fuzzywuzzy import process \nfrom nltk.corpus import wordnet\nfrom nltk.corpus import words\nimport wikipedia\nimport wikipediaapi as wiki"
    },
    {
      "cell_type": "code",
      "execution_count": 78,
      "metadata": {
        "pycharm": {}
      },
      "outputs": [
        {
          "name": "stdout",
          "output_type": "stream",
          "text": [
            "C:\\Users\\shubhangi\\Desktop\\capstone\\IP-Capstone-master\n"
          ]
        }
      ],
      "source": "# cd C:\\Users\\shubhangi\\Desktop\\capstone\\IP-Capstone-master"
    },
    {
      "cell_type": "code",
      "execution_count": 10,
      "metadata": {
        "pycharm": {
          "is_executing": false
        }
      },
      "outputs": [
        {
          "name": "stdout",
          "text": [
            "D:\\PC\\Documents\\Research_Internship\\IP-Capstone\n"
          ],
          "output_type": "stream"
        }
      ],
      "source": [
        "path\u003dos.getcwd()\n",
        "print(path)"
      ]
    },
    {
      "cell_type": "code",
      "execution_count": 11,
      "metadata": {
        "pycharm": {
          "is_executing": false
        }
      },
      "outputs": [],
      "source": [
        "infile \u003d open(\u0027models_tables\u0027,\u0027rb\u0027)\n",
        "new_dict \u003d pickle.load(infile)\n",
        "infile.close()"
      ]
    },
    {
      "cell_type": "code",
      "execution_count": 12,
      "metadata": {
        "pycharm": {
          "is_executing": false
        }
      },
      "outputs": [
        {
          "data": {
            "text/plain": "[\u0027Operating System Present\u0027, \u0027Yes\u0027]"
          },
          "metadata": {},
          "output_type": "execute_result",
          "execution_count": 12
        }
      ],
      "source": [
        "new_dict[0][40]"
      ]
    },
    {
      "cell_type": "code",
      "execution_count": 82,
      "metadata": {
        "pycharm": {}
      },
      "outputs": [
        {
          "name": "stdout",
          "output_type": "stream",
          "text": [
            "C:\\Users\\shubhangi\\Desktop\\capstone\n"
          ]
        }
      ],
      "source": " # cd C:\\Users\\shubhangi\\Desktop\\capstone"
    },
    {
      "cell_type": "code",
      "execution_count": 13,
      "metadata": {
        "pycharm": {
          "is_executing": false
        }
      },
      "outputs": [],
      "source": [
        "path1\u003dos.getcwd()"
      ]
    },
    {
      "cell_type": "code",
      "execution_count": 25,
      "metadata": {
        "pycharm": {
          "is_executing": false
        }
      },
      "outputs": [],
      "source": "data\u003dpd.read_csv(\"Capstone_project - Sheet1.csv\",header\u003dNone);"
    },
    {
      "cell_type": "code",
      "execution_count": 26,
      "metadata": {
        "pycharm": {
          "is_executing": false
        }
      },
      "outputs": [
        {
          "data": {
            "text/plain": "      0          1                                2                    3   \\\n0   S.No  BrandName                         Model No  Screen Size(inches)   \n1      1    Samsung   UA43N5370AU  Full HD Smart LED                   43   \n2      2  Samsung                         QA55Q6FNAK                   55   \n3      3   Samsung                       UA49NU7100K                   49   \n4      4      Sony                       KLV-32R302E                   32   \n5      5        LG                       OLED77C9PTA                   77   \n6      6       LG                        32LK526BPTA                   32   \n7      7      Sony                       KLV-43W662F                   43   \n8      8      Sony                       KLV-32BX320                   32   \n9      9        LG                       43LK5760PTA                   43   \n10    10      Sony                       KLV-40R252F                   40   \n11   NaN        NaN                              NaN                  NaN   \n12   NaN        NaN                              NaN                  NaN   \n13   NaN        NaN                              NaN                  NaN   \n14   NaN        NaN                              NaN                  NaN   \n15   NaN        NaN                              NaN                  NaN   \n16   NaN        NaN                              NaN               Random   \n17   NaN        NaN                              NaN              Anomaly   \n\n                    4            5    6         7     8             9   \\\n0    Screen Resolution  Screen Type  USB  Ethernet  HDMI  Refresh Rate   \n1          1920 x 1080          LED  yes        no     2            60   \n2            3840x2160          LED  yes       yes     4           120   \n3           3840x2160           LED  yes       yes     3           120   \n4           1366 x 768          LED  yes        no     2           120   \n5   3840 x 2160 pixels         OLED    3       yes     4           120   \n6                  NaN          LED  yes        no     2            60   \n7          1920 x 1080          LED  yes        no     2            60   \n8           1366 x 768          LCD  yes        no     1            60   \n9          1920 x 1080          LED  yes        no     2            60   \n10         1921 x 1080          LED  yes        no     1           120   \n11                 NaN          NaN  NaN       NaN   NaN           NaN   \n12                 NaN          NaN  NaN       NaN   NaN           NaN   \n13                 NaN          NaN  NaN       NaN   NaN           NaN   \n14                 NaN          NaN  NaN       NaN   NaN           NaN   \n15                 NaN          NaN  NaN       NaN   NaN           NaN   \n16                 NaN          NaN  NaN       NaN   NaN           NaN   \n17                 NaN          NaN  NaN       NaN   NaN           NaN   \n\n         10             11            12  \n0        OS  hasHDRFeature  Aspect Ratio  \n1     Tizen            yes          16:9  \n2     Tizen            yes  2.39 : 1\\r\\n  \n3     Tizen            yes          16:9  \n4       NaN             no          16:9  \n5     WebOS            yes          16:9  \n6   android             no          16:9  \n7     Linux            yes          16:9  \n8       NaN             no          16:9  \n9     Linux            yes          16:9  \n10    Linux            yes          16:9  \n11      NaN            NaN           NaN  \n12      NaN            NaN           NaN  \n13      NaN            NaN           NaN  \n14      NaN            NaN           NaN  \n15      NaN            NaN           NaN  \n16      NaN            NaN           NaN  \n17      NaN            NaN           NaN  ",
            "text/html": "\u003cdiv\u003e\n\u003cstyle scoped\u003e\n    .dataframe tbody tr th:only-of-type {\n        vertical-align: middle;\n    }\n\n    .dataframe tbody tr th {\n        vertical-align: top;\n    }\n\n    .dataframe thead th {\n        text-align: right;\n    }\n\u003c/style\u003e\n\u003ctable border\u003d\"1\" class\u003d\"dataframe\"\u003e\n  \u003cthead\u003e\n    \u003ctr style\u003d\"text-align: right;\"\u003e\n      \u003cth\u003e\u003c/th\u003e\n      \u003cth\u003e0\u003c/th\u003e\n      \u003cth\u003e1\u003c/th\u003e\n      \u003cth\u003e2\u003c/th\u003e\n      \u003cth\u003e3\u003c/th\u003e\n      \u003cth\u003e4\u003c/th\u003e\n      \u003cth\u003e5\u003c/th\u003e\n      \u003cth\u003e6\u003c/th\u003e\n      \u003cth\u003e7\u003c/th\u003e\n      \u003cth\u003e8\u003c/th\u003e\n      \u003cth\u003e9\u003c/th\u003e\n      \u003cth\u003e10\u003c/th\u003e\n      \u003cth\u003e11\u003c/th\u003e\n      \u003cth\u003e12\u003c/th\u003e\n    \u003c/tr\u003e\n  \u003c/thead\u003e\n  \u003ctbody\u003e\n    \u003ctr\u003e\n      \u003cth\u003e0\u003c/th\u003e\n      \u003ctd\u003eS.No\u003c/td\u003e\n      \u003ctd\u003eBrandName\u003c/td\u003e\n      \u003ctd\u003eModel No\u003c/td\u003e\n      \u003ctd\u003eScreen Size(inches)\u003c/td\u003e\n      \u003ctd\u003eScreen Resolution\u003c/td\u003e\n      \u003ctd\u003eScreen Type\u003c/td\u003e\n      \u003ctd\u003eUSB\u003c/td\u003e\n      \u003ctd\u003eEthernet\u003c/td\u003e\n      \u003ctd\u003eHDMI\u003c/td\u003e\n      \u003ctd\u003eRefresh Rate\u003c/td\u003e\n      \u003ctd\u003eOS\u003c/td\u003e\n      \u003ctd\u003ehasHDRFeature\u003c/td\u003e\n      \u003ctd\u003eAspect Ratio\u003c/td\u003e\n    \u003c/tr\u003e\n    \u003ctr\u003e\n      \u003cth\u003e1\u003c/th\u003e\n      \u003ctd\u003e1\u003c/td\u003e\n      \u003ctd\u003eSamsung\u003c/td\u003e\n      \u003ctd\u003eUA43N5370AU  Full HD Smart LED\u003c/td\u003e\n      \u003ctd\u003e43\u003c/td\u003e\n      \u003ctd\u003e1920 x 1080\u003c/td\u003e\n      \u003ctd\u003eLED\u003c/td\u003e\n      \u003ctd\u003eyes\u003c/td\u003e\n      \u003ctd\u003eno\u003c/td\u003e\n      \u003ctd\u003e2\u003c/td\u003e\n      \u003ctd\u003e60\u003c/td\u003e\n      \u003ctd\u003eTizen\u003c/td\u003e\n      \u003ctd\u003eyes\u003c/td\u003e\n      \u003ctd\u003e16:9\u003c/td\u003e\n    \u003c/tr\u003e\n    \u003ctr\u003e\n      \u003cth\u003e2\u003c/th\u003e\n      \u003ctd\u003e2\u003c/td\u003e\n      \u003ctd\u003eSamsung\u003c/td\u003e\n      \u003ctd\u003eQA55Q6FNAK\u003c/td\u003e\n      \u003ctd\u003e55\u003c/td\u003e\n      \u003ctd\u003e3840x2160\u003c/td\u003e\n      \u003ctd\u003eLED\u003c/td\u003e\n      \u003ctd\u003eyes\u003c/td\u003e\n      \u003ctd\u003eyes\u003c/td\u003e\n      \u003ctd\u003e4\u003c/td\u003e\n      \u003ctd\u003e120\u003c/td\u003e\n      \u003ctd\u003eTizen\u003c/td\u003e\n      \u003ctd\u003eyes\u003c/td\u003e\n      \u003ctd\u003e2.39 : 1\\r\\n\u003c/td\u003e\n    \u003c/tr\u003e\n    \u003ctr\u003e\n      \u003cth\u003e3\u003c/th\u003e\n      \u003ctd\u003e3\u003c/td\u003e\n      \u003ctd\u003eSamsung\u003c/td\u003e\n      \u003ctd\u003eUA49NU7100K\u003c/td\u003e\n      \u003ctd\u003e49\u003c/td\u003e\n      \u003ctd\u003e3840x2160\u003c/td\u003e\n      \u003ctd\u003eLED\u003c/td\u003e\n      \u003ctd\u003eyes\u003c/td\u003e\n      \u003ctd\u003eyes\u003c/td\u003e\n      \u003ctd\u003e3\u003c/td\u003e\n      \u003ctd\u003e120\u003c/td\u003e\n      \u003ctd\u003eTizen\u003c/td\u003e\n      \u003ctd\u003eyes\u003c/td\u003e\n      \u003ctd\u003e16:9\u003c/td\u003e\n    \u003c/tr\u003e\n    \u003ctr\u003e\n      \u003cth\u003e4\u003c/th\u003e\n      \u003ctd\u003e4\u003c/td\u003e\n      \u003ctd\u003eSony\u003c/td\u003e\n      \u003ctd\u003eKLV-32R302E\u003c/td\u003e\n      \u003ctd\u003e32\u003c/td\u003e\n      \u003ctd\u003e1366 x 768\u003c/td\u003e\n      \u003ctd\u003eLED\u003c/td\u003e\n      \u003ctd\u003eyes\u003c/td\u003e\n      \u003ctd\u003eno\u003c/td\u003e\n      \u003ctd\u003e2\u003c/td\u003e\n      \u003ctd\u003e120\u003c/td\u003e\n      \u003ctd\u003eNaN\u003c/td\u003e\n      \u003ctd\u003eno\u003c/td\u003e\n      \u003ctd\u003e16:9\u003c/td\u003e\n    \u003c/tr\u003e\n    \u003ctr\u003e\n      \u003cth\u003e5\u003c/th\u003e\n      \u003ctd\u003e5\u003c/td\u003e\n      \u003ctd\u003eLG\u003c/td\u003e\n      \u003ctd\u003eOLED77C9PTA\u003c/td\u003e\n      \u003ctd\u003e77\u003c/td\u003e\n      \u003ctd\u003e3840 x 2160 pixels\u003c/td\u003e\n      \u003ctd\u003eOLED\u003c/td\u003e\n      \u003ctd\u003e3\u003c/td\u003e\n      \u003ctd\u003eyes\u003c/td\u003e\n      \u003ctd\u003e4\u003c/td\u003e\n      \u003ctd\u003e120\u003c/td\u003e\n      \u003ctd\u003eWebOS\u003c/td\u003e\n      \u003ctd\u003eyes\u003c/td\u003e\n      \u003ctd\u003e16:9\u003c/td\u003e\n    \u003c/tr\u003e\n    \u003ctr\u003e\n      \u003cth\u003e6\u003c/th\u003e\n      \u003ctd\u003e6\u003c/td\u003e\n      \u003ctd\u003eLG\u003c/td\u003e\n      \u003ctd\u003e32LK526BPTA\u003c/td\u003e\n      \u003ctd\u003e32\u003c/td\u003e\n      \u003ctd\u003eNaN\u003c/td\u003e\n      \u003ctd\u003eLED\u003c/td\u003e\n      \u003ctd\u003eyes\u003c/td\u003e\n      \u003ctd\u003eno\u003c/td\u003e\n      \u003ctd\u003e2\u003c/td\u003e\n      \u003ctd\u003e60\u003c/td\u003e\n      \u003ctd\u003eandroid\u003c/td\u003e\n      \u003ctd\u003eno\u003c/td\u003e\n      \u003ctd\u003e16:9\u003c/td\u003e\n    \u003c/tr\u003e\n    \u003ctr\u003e\n      \u003cth\u003e7\u003c/th\u003e\n      \u003ctd\u003e7\u003c/td\u003e\n      \u003ctd\u003eSony\u003c/td\u003e\n      \u003ctd\u003eKLV-43W662F\u003c/td\u003e\n      \u003ctd\u003e43\u003c/td\u003e\n      \u003ctd\u003e1920 x 1080\u003c/td\u003e\n      \u003ctd\u003eLED\u003c/td\u003e\n      \u003ctd\u003eyes\u003c/td\u003e\n      \u003ctd\u003eno\u003c/td\u003e\n      \u003ctd\u003e2\u003c/td\u003e\n      \u003ctd\u003e60\u003c/td\u003e\n      \u003ctd\u003eLinux\u003c/td\u003e\n      \u003ctd\u003eyes\u003c/td\u003e\n      \u003ctd\u003e16:9\u003c/td\u003e\n    \u003c/tr\u003e\n    \u003ctr\u003e\n      \u003cth\u003e8\u003c/th\u003e\n      \u003ctd\u003e8\u003c/td\u003e\n      \u003ctd\u003eSony\u003c/td\u003e\n      \u003ctd\u003eKLV-32BX320\u003c/td\u003e\n      \u003ctd\u003e32\u003c/td\u003e\n      \u003ctd\u003e1366 x 768\u003c/td\u003e\n      \u003ctd\u003eLCD\u003c/td\u003e\n      \u003ctd\u003eyes\u003c/td\u003e\n      \u003ctd\u003eno\u003c/td\u003e\n      \u003ctd\u003e1\u003c/td\u003e\n      \u003ctd\u003e60\u003c/td\u003e\n      \u003ctd\u003eNaN\u003c/td\u003e\n      \u003ctd\u003eno\u003c/td\u003e\n      \u003ctd\u003e16:9\u003c/td\u003e\n    \u003c/tr\u003e\n    \u003ctr\u003e\n      \u003cth\u003e9\u003c/th\u003e\n      \u003ctd\u003e9\u003c/td\u003e\n      \u003ctd\u003eLG\u003c/td\u003e\n      \u003ctd\u003e43LK5760PTA\u003c/td\u003e\n      \u003ctd\u003e43\u003c/td\u003e\n      \u003ctd\u003e1920 x 1080\u003c/td\u003e\n      \u003ctd\u003eLED\u003c/td\u003e\n      \u003ctd\u003eyes\u003c/td\u003e\n      \u003ctd\u003eno\u003c/td\u003e\n      \u003ctd\u003e2\u003c/td\u003e\n      \u003ctd\u003e60\u003c/td\u003e\n      \u003ctd\u003eLinux\u003c/td\u003e\n      \u003ctd\u003eyes\u003c/td\u003e\n      \u003ctd\u003e16:9\u003c/td\u003e\n    \u003c/tr\u003e\n    \u003ctr\u003e\n      \u003cth\u003e10\u003c/th\u003e\n      \u003ctd\u003e10\u003c/td\u003e\n      \u003ctd\u003eSony\u003c/td\u003e\n      \u003ctd\u003eKLV-40R252F\u003c/td\u003e\n      \u003ctd\u003e40\u003c/td\u003e\n      \u003ctd\u003e1921 x 1080\u003c/td\u003e\n      \u003ctd\u003eLED\u003c/td\u003e\n      \u003ctd\u003eyes\u003c/td\u003e\n      \u003ctd\u003eno\u003c/td\u003e\n      \u003ctd\u003e1\u003c/td\u003e\n      \u003ctd\u003e120\u003c/td\u003e\n      \u003ctd\u003eLinux\u003c/td\u003e\n      \u003ctd\u003eyes\u003c/td\u003e\n      \u003ctd\u003e16:9\u003c/td\u003e\n    \u003c/tr\u003e\n    \u003ctr\u003e\n      \u003cth\u003e11\u003c/th\u003e\n      \u003ctd\u003eNaN\u003c/td\u003e\n      \u003ctd\u003eNaN\u003c/td\u003e\n      \u003ctd\u003eNaN\u003c/td\u003e\n      \u003ctd\u003eNaN\u003c/td\u003e\n      \u003ctd\u003eNaN\u003c/td\u003e\n      \u003ctd\u003eNaN\u003c/td\u003e\n      \u003ctd\u003eNaN\u003c/td\u003e\n      \u003ctd\u003eNaN\u003c/td\u003e\n      \u003ctd\u003eNaN\u003c/td\u003e\n      \u003ctd\u003eNaN\u003c/td\u003e\n      \u003ctd\u003eNaN\u003c/td\u003e\n      \u003ctd\u003eNaN\u003c/td\u003e\n      \u003ctd\u003eNaN\u003c/td\u003e\n    \u003c/tr\u003e\n    \u003ctr\u003e\n      \u003cth\u003e12\u003c/th\u003e\n      \u003ctd\u003eNaN\u003c/td\u003e\n      \u003ctd\u003eNaN\u003c/td\u003e\n      \u003ctd\u003eNaN\u003c/td\u003e\n      \u003ctd\u003eNaN\u003c/td\u003e\n      \u003ctd\u003eNaN\u003c/td\u003e\n      \u003ctd\u003eNaN\u003c/td\u003e\n      \u003ctd\u003eNaN\u003c/td\u003e\n      \u003ctd\u003eNaN\u003c/td\u003e\n      \u003ctd\u003eNaN\u003c/td\u003e\n      \u003ctd\u003eNaN\u003c/td\u003e\n      \u003ctd\u003eNaN\u003c/td\u003e\n      \u003ctd\u003eNaN\u003c/td\u003e\n      \u003ctd\u003eNaN\u003c/td\u003e\n    \u003c/tr\u003e\n    \u003ctr\u003e\n      \u003cth\u003e13\u003c/th\u003e\n      \u003ctd\u003eNaN\u003c/td\u003e\n      \u003ctd\u003eNaN\u003c/td\u003e\n      \u003ctd\u003eNaN\u003c/td\u003e\n      \u003ctd\u003eNaN\u003c/td\u003e\n      \u003ctd\u003eNaN\u003c/td\u003e\n      \u003ctd\u003eNaN\u003c/td\u003e\n      \u003ctd\u003eNaN\u003c/td\u003e\n      \u003ctd\u003eNaN\u003c/td\u003e\n      \u003ctd\u003eNaN\u003c/td\u003e\n      \u003ctd\u003eNaN\u003c/td\u003e\n      \u003ctd\u003eNaN\u003c/td\u003e\n      \u003ctd\u003eNaN\u003c/td\u003e\n      \u003ctd\u003eNaN\u003c/td\u003e\n    \u003c/tr\u003e\n    \u003ctr\u003e\n      \u003cth\u003e14\u003c/th\u003e\n      \u003ctd\u003eNaN\u003c/td\u003e\n      \u003ctd\u003eNaN\u003c/td\u003e\n      \u003ctd\u003eNaN\u003c/td\u003e\n      \u003ctd\u003eNaN\u003c/td\u003e\n      \u003ctd\u003eNaN\u003c/td\u003e\n      \u003ctd\u003eNaN\u003c/td\u003e\n      \u003ctd\u003eNaN\u003c/td\u003e\n      \u003ctd\u003eNaN\u003c/td\u003e\n      \u003ctd\u003eNaN\u003c/td\u003e\n      \u003ctd\u003eNaN\u003c/td\u003e\n      \u003ctd\u003eNaN\u003c/td\u003e\n      \u003ctd\u003eNaN\u003c/td\u003e\n      \u003ctd\u003eNaN\u003c/td\u003e\n    \u003c/tr\u003e\n    \u003ctr\u003e\n      \u003cth\u003e15\u003c/th\u003e\n      \u003ctd\u003eNaN\u003c/td\u003e\n      \u003ctd\u003eNaN\u003c/td\u003e\n      \u003ctd\u003eNaN\u003c/td\u003e\n      \u003ctd\u003eNaN\u003c/td\u003e\n      \u003ctd\u003eNaN\u003c/td\u003e\n      \u003ctd\u003eNaN\u003c/td\u003e\n      \u003ctd\u003eNaN\u003c/td\u003e\n      \u003ctd\u003eNaN\u003c/td\u003e\n      \u003ctd\u003eNaN\u003c/td\u003e\n      \u003ctd\u003eNaN\u003c/td\u003e\n      \u003ctd\u003eNaN\u003c/td\u003e\n      \u003ctd\u003eNaN\u003c/td\u003e\n      \u003ctd\u003eNaN\u003c/td\u003e\n    \u003c/tr\u003e\n    \u003ctr\u003e\n      \u003cth\u003e16\u003c/th\u003e\n      \u003ctd\u003eNaN\u003c/td\u003e\n      \u003ctd\u003eNaN\u003c/td\u003e\n      \u003ctd\u003eNaN\u003c/td\u003e\n      \u003ctd\u003eRandom\u003c/td\u003e\n      \u003ctd\u003eNaN\u003c/td\u003e\n      \u003ctd\u003eNaN\u003c/td\u003e\n      \u003ctd\u003eNaN\u003c/td\u003e\n      \u003ctd\u003eNaN\u003c/td\u003e\n      \u003ctd\u003eNaN\u003c/td\u003e\n      \u003ctd\u003eNaN\u003c/td\u003e\n      \u003ctd\u003eNaN\u003c/td\u003e\n      \u003ctd\u003eNaN\u003c/td\u003e\n      \u003ctd\u003eNaN\u003c/td\u003e\n    \u003c/tr\u003e\n    \u003ctr\u003e\n      \u003cth\u003e17\u003c/th\u003e\n      \u003ctd\u003eNaN\u003c/td\u003e\n      \u003ctd\u003eNaN\u003c/td\u003e\n      \u003ctd\u003eNaN\u003c/td\u003e\n      \u003ctd\u003eAnomaly\u003c/td\u003e\n      \u003ctd\u003eNaN\u003c/td\u003e\n      \u003ctd\u003eNaN\u003c/td\u003e\n      \u003ctd\u003eNaN\u003c/td\u003e\n      \u003ctd\u003eNaN\u003c/td\u003e\n      \u003ctd\u003eNaN\u003c/td\u003e\n      \u003ctd\u003eNaN\u003c/td\u003e\n      \u003ctd\u003eNaN\u003c/td\u003e\n      \u003ctd\u003eNaN\u003c/td\u003e\n      \u003ctd\u003eNaN\u003c/td\u003e\n    \u003c/tr\u003e\n  \u003c/tbody\u003e\n\u003c/table\u003e\n\u003c/div\u003e"
          },
          "metadata": {},
          "output_type": "execute_result",
          "execution_count": 26
        }
      ],
      "source": [
        "data"
      ]
    },
    {
      "cell_type": "code",
      "execution_count": 27,
      "metadata": {
        "pycharm": {
          "is_executing": false
        }
      },
      "outputs": [],
      "source": [
        "word\u003d\u0027\u0027\n",
        "sub_dict\u003d{}\n",
        "for i in range(1,13):\n",
        "    data[i][0]\u003ddata[i][0].lower()\n",
        "    temp\u003ddata[i][0];\n",
        "    word\u003d\u0027\u0027\n",
        "    for i in range (0,len(temp)):\n",
        "        word\u003dword+temp[i]\n",
        "    sub_dict[word]\u003d[];"
      ]
    },
    {
      "cell_type": "code",
      "execution_count": 28,
      "metadata": {
        "pycharm": {
          "is_executing": false
        }
      },
      "outputs": [
        {
          "data": {
            "text/plain": "{\u0027brandname\u0027: [],\n \u0027model no\u0027: [],\n \u0027screen size(inches)\u0027: [],\n \u0027screen resolution\u0027: [],\n \u0027screen type\u0027: [],\n \u0027usb\u0027: [],\n \u0027ethernet\u0027: [],\n \u0027hdmi\u0027: [],\n \u0027refresh rate\u0027: [],\n \u0027os\u0027: [],\n \u0027hashdrfeature\u0027: [],\n \u0027aspect ratio\u0027: []}"
          },
          "metadata": {},
          "output_type": "execute_result",
          "execution_count": 28
        }
      ],
      "source": [
        "sub_dict"
      ]
    },
    {
      "cell_type": "code",
      "execution_count": 29,
      "metadata": {
        "pycharm": {
          "is_executing": false
        }
      },
      "outputs": [],
      "source": [
        "for i in range(0,len(new_dict)):\n",
        "    for j in range(1,len(new_dict[i])-4):\n",
        "        new_dict[i][j][0]\u003dnew_dict[i][j][0].lower()\n",
        "        temp\u003dnew_dict[i][j][0];\n",
        "        word\u003d\u0027\u0027\n",
        "        for k in range (0,len(temp)):\n",
        "            word\u003dword+temp[k]\n",
        "        new_dict[i][j][0]\u003dword;"
      ]
    },
    {
      "cell_type": "code",
      "execution_count": 30,
      "metadata": {
        "pycharm": {
          "is_executing": false
        }
      },
      "outputs": [],
      "source": [
        "sub_new\u003d{}\n",
        "for i in range (0,len(new_dict)):\n",
        "    for j in range(1,len(new_dict[i])-4):\n",
        "        for key in sub_dict:\n",
        "            temp\u003dfuzz.ratio(new_dict[i][j][0],key)\n",
        "            if temp\u003e60 and temp\u003c90:\n",
        "                sub_dict[key]\u003dnew_dict[i][j][0]\n",
        "            elif temp\u003c60:\n",
        "                if new_dict[i][j][0] not in sub_dict and len(new_dict[i][j][0])\u003c50:\n",
        "                    sub_new[new_dict[i][j][0]]\u003d[];"
      ]
    },
    {
      "cell_type": "code",
      "execution_count": 31,
      "metadata": {
        "pycharm": {
          "is_executing": false
        }
      },
      "outputs": [
        {
          "name": "stdout",
          "text": [
            "Synset(\u0027aspect.n.01\u0027)\nSynset(\u0027guarantee.n.01\u0027)\n0.23529411764705882\n"
          ],
          "output_type": "stream"
        }
      ],
      "source": [
        "  word1\u003dkey.split();\n",
        "if(len(word1)\u003e1 and len(word1)\u003c4):\n",
        "    new_words\u003dnew_dict[i][j][0].split();\n",
        "#                 print(new_words[0])\n",
        "    if word1[0] in words.words() and new_words[0] in words.words():\n",
        "        w1 \u003d wordnet.synsets(word1[0])[0]\n",
        "        w2 \u003d wordnet.synsets(new_words[0])[0]\n",
        "        print (w1)\n",
        "        print(w2)\n",
        "        similarity\u003dw1.wup_similarity(w2);\n",
        "        print(similarity)\n",
        "        if similarity\u003e65:\n",
        "            sub_dict[key]\u003dnew_dict[i][j][0]\n",
        "        elif similarity\u003c60:\n",
        "            if new_dict[i][j][0] not in sub_dict and len(new_words)\u003c4:\n",
        "                sub_new[new_dict[i][j][0]]\u003d[];"
      ]
    },
    {
      "cell_type": "code",
      "execution_count": 34,
      "metadata": {
        "pycharm": {
          "is_executing": false
        }
      },
      "outputs": [
        {
          "data": {
            "text/plain": "{\u0027model name\u0027: [],\n \u0027display size\u0027: [],\n \u0027hd technology \u0026 resolution\u0027: [],\n \u00273d\u0027: [],\n \u0027smart tv\u0027: [],\n \u0027curve tv\u0027: [],\n \u0027series\u0027: [],\n \u0027touchscreen\u0027: [],\n \u0027motion sensor\u0027: [],\n \u0027wi-fi type\u0027: [],\n \u0027built in wi-fi\u0027: [],\n \u0027launch year\u0027: [],\n \u00273g dongle plug and play\u0027: [],\n \u0027ethernet (rj45)\u0027: [],\n \u0027other internet features\u0027: [],\n \u0027nfc support\u0027: [],\n \u0027contrast ratio\u0027: [],\n \u0027digital tv reception\u0027: [],\n \u0027view angle\u0027: [],\n \u0027digital noise filter\u0027: [],\n \u0027led display type\u0027: [],\n \u0027other video features\u0027: [],\n \u0027number of cores\u0027: [],\n \u0027processor\u0027: [],\n \u0027ram capacity\u0027: [],\n \u0027storage memory\u0027: [],\n \u0027supported app - netflix\u0027: [],\n \u0027supported app - youtube\u0027: [],\n \u0027supported app - hotstar\u0027: [],\n \u0027supported app - prime video\u0027: [],\n \u0027supported mobile operating system\u0027: [],\n \u0027operating system present\u0027: [],\n \u0027operating system\u0027: [],\n \u0027screen mirroring\u0027: [],\n \u0027app store type\u0027: [],\n \u0027content providers\u0027: [],\n \u0027content languages\u0027: [],\n \u0027system languages\u0027: [],\n \u0027number of speakers\u0027: [],\n \u0027speaker type\u0027: [],\n \u0027surround sound\u0027: [],\n \u0027speaker output rms\u0027: [],\n \u0027sound mode\u0027: [],\n \u0027other audio features\u0027: [],\n \u0027other convenience features\u0027: [],\n \u0027power requirement\u0027: [],\n \u0027power consumption\u0027: [],\n \u0027touch remote\u0027: [],\n \u0027smart remote\u0027: [],\n \u0027rf capable\u0027: [],\n \u0027internet access\u0027: [],\n \u0027width x height x depth (without stand)\u0027: [],\n \u0027weight (without stand)\u0027: [],\n \u0027width x height x depth (with stand)\u0027: [],\n \u0027weight (with stand)\u0027: [],\n \u0027stand type\u0027: [],\n \u0027warranty summary\u0027: [],\n \u0027headphone jack\u0027: [],\n \u0027other connectivity features\u0027: [],\n \u0027brightness\u0027: [],\n \u0027picture engine\u0027: [],\n \u0027picture in picture (pip)\u0027: [],\n \u0027panel type\u0027: [],\n \u0027supported video formats\u0027: [],\n \u0027graphic processor\u0027: [],\n \u0027supported app - others\u0027: [],\n \u0027supported devices for casting\u0027: [],\n \u0027sound technology\u0027: [],\n \u0027supported audio formats\u0027: [],\n \u0027clock\u0027: [],\n \u0027auto power off\u0027: [],\n \u0027sleep timer\u0027: [],\n \u0027on/off timer\u0027: [],\n \u0027other power features\u0027: [],\n \u0027battery type\u0027: [],\n \u0027remote charger\u0027: [],\n \u0027other remote control features\u0027: [],\n \u0027color\u0027: [],\n \u0027mobile high-definition link\u0027: [],\n \u0027component in (rgb cable)\u0027: [],\n \u0027composite in (audio video cable)\u0027: [],\n \u0027pc audio in\u0027: [],\n \u0027pc d-sub\u0027: [],\n \u0027digital audio output\u0027: [],\n \u0027audio out\u0027: [],\n \u0027rf connectivity input\u0027: [],\n \u0027analog audio input\u0027: [],\n \u0027picture and picture (pap)\u0027: [],\n \u0027graphic user interface\u0027: [],\n \u0027clocking speed\u0027: [],\n \u0027pre installed browser\u0027: [],\n \u0027number of subwoofers\u0027: [],\n \u0027child lock\u0027: [],\n \u0027color screen\u0027: [],\n \u0027ir capable\u0027: [],\n \u0027led backlit buttons\u0027: [],\n \u0027dvr control\u0027: [],\n \u0027operating distance\u0027: [],\n \u0027other dimensions\u0027: [],\n \u0027analog tv reception\u0027: [],\n \u0027width x height x depth\u0027: [],\n \u0027weight\u0027: [],\n \u0027subwoofer output rms\u0027: [],\n \u0027wide viewing angle, active 4k hdr, ai enabled\u0027: [],\n \u0027ai thinq\u0027: [],\n \u0027covered in warranty\u0027: [],\n \u0027rf connectivity output\u0027: [],\n \u0027google android tv\u0027: [],\n \u0027stand features\u0027: [],\n \u0027opearting system version: android 7.0\u0027: [],\n \u0027webos\u0027: [],\n \u0027favoritesusb versions: usb 2.0, usb 3.0\u0027: [],\n \u0027hdcp version - 1.4\u0027: [],\n \u0027app store type: panasonic cloudsuperbright panel\u0027: [],\n \u0027osd languages: english\u0027: [],\n \u0027streaming platform\u0027: []}"
          },
          "metadata": {},
          "output_type": "execute_result",
          "execution_count": 34
        }
      ],
      "source": [
        "sub_new"
      ]
    },
    {
      "cell_type": "code",
      "execution_count": 33,
      "metadata": {
        "pycharm": {
          "is_executing": false
        }
      },
      "outputs": [
        {
          "data": {
            "text/plain": "{\u0027brandname\u0027: [],\n \u0027model no\u0027: \u0027model name\u0027,\n \u0027screen size(inches)\u0027: [],\n \u0027screen resolution\u0027: \u0027screen mirroring\u0027,\n \u0027screen type\u0027: \u0027stand type\u0027,\n \u0027usb\u0027: [],\n \u0027ethernet\u0027: \u0027ethernet (rj45)\u0027,\n \u0027hdmi\u0027: [],\n \u0027refresh rate\u0027: [],\n \u0027os\u0027: [],\n \u0027hashdrfeature\u0027: \u0027stand features\u0027,\n \u0027aspect ratio\u0027: \u0027contrast ratio\u0027}"
          },
          "metadata": {},
          "output_type": "execute_result",
          "execution_count": 33
        }
      ],
      "source": [
        "sub_dict"
      ]
    },
    {
      "cell_type": "code",
      "execution_count": 93,
      "metadata": {
        "pycharm": {}
      },
      "outputs": [
        {
          "data": {
            "text/plain": [
              "67"
            ]
          },
          "execution_count": 93,
          "metadata": {},
          "output_type": "execute_result"
        }
      ],
      "source": [
        "fuzz.ratio(\u0027aspectratio\u0027,\u0027contrastratio\u0027)"
      ]
    },
    {
      "cell_type": "code",
      "execution_count": 94,
      "metadata": {
        "pycharm": {}
      },
      "outputs": [],
      "source": [
        "word1\u003d\u0027brightness\u0027\n",
        "word2\u003d\u0027contrast\u0027\n",
        "w1 \u003d wordnet.synsets(word1)[0]\n",
        "w2 \u003d wordnet.synsets(word2)[0]\n",
        "similarity\u003dw1.wup_similarity(w2);"
      ]
    },
    {
      "cell_type": "markdown",
      "metadata": {
        "pycharm": {}
      },
      "source": [
        "###### similarity"
      ]
    },
    {
      "cell_type": "code",
      "execution_count": 68,
      "metadata": {
        "pycharm": {}
      },
      "outputs": [
        {
          "name": "stdout",
          "output_type": "stream",
          "text": [
            "brand name\n",
            "model no\n",
            "screen size(inches)\n",
            "screen resolution\n",
            "screen type\n",
            "usb\n",
            "ethernet\n",
            "hdmi\n",
            "refresh rate\n",
            "os\n",
            "[\u0027Ordnance Survey\u0027, \u0027Austrian Airlines\u0027, \u0027O.S. Engines\u0027, \u0027OutSystems\u0027, \u0027Operating system\u0027, \u0027Open source (disambiguation)\u0027, \u0027OpenStack\u0027, \u0027\"Os\" (Fringe)\u0027, \u0027Outlaw Star\u0027, \u0027eyeglass prescriptions\u0027, \u0027Ohtahara syndrome\u0027, \u0027Overall survival rate\u0027, \u0027external orifice of the uterus\u0027, \u0027external orifice of the uterus\u0027, \u0027internal orifice of the uterus\u0027, \u0027per os\u0027, \u0027coronary artery\u0027, \u0027Alexander Os\u0027, \u0027Os du Randt\u0027, \u0027Os Guinness\u0027, \u0027Os, Hedmark\u0027, \u0027Os, Hordaland\u0027, \u0027Oś, Kluczbork County\u0027, \u0027Os, Värnamo\u0027, \u0027Os, Østfold\u0027, \u0027Os Church\u0027, \u0027Osiedle\u0027, \u0027ICAO code\u0027, \u0027Ōs\u0027, \u0027Order of Santiago\u0027, \u0027Order of Sikatuna\u0027, \u0027Ocean Science (journal)\u0027, \u0027Osmium\u0027, \u0027Ohio State Buckeyes\u0027, \u0027Os TF\u0027, \u0027On-sight climbing\u0027, \u0027Baltimore Orioles\u0027, \u0027Leyton Orient\u0027, \u0027Ordinary seaman\u0027, \u0027Ordnance sergeant\u0027, \u0027alumni of Sherborne School\u0027, \u0027alumni of Stonyhurst College\u0027, \u0027Ōs (rune)\u0027, \u0027Old Style\u0027, \u0027Ossetic language\u0027, \u0027Object sexuality\u0027, \u0027Oral sex\u0027, \u00270S (disambiguation)\u0027, \u0027ÖS (disambiguation)\u0027, \u0027Oz (disambiguation)\u0027]\n",
            "enter the position for which you want the the wiki page(start from 1):5\n",
            "5\n",
            "Operating system\n",
            "hashdrfeature\n",
            "aspect ratio\n"
          ]
        }
      ],
      "source": [
        "wiki_wiki \u003d wiki.Wikipedia(\u0027en\u0027)\n",
        "f\u003dcodecs.open(\"database.txt\",\"a+\",encoding\u003d\u0027utf8\u0027)\n",
        "for key in sub_dict:\n",
        "    print(key)\n",
        "    page_py \u003d wiki_wiki.page(key)\n",
        "    if page_py.exists():\n",
        "        try:\n",
        "            temp\u003dwikipedia.WikipediaPage(title\u003dkey).summary\n",
        "            f.write(temp)\n",
        "        except wikipedia.exceptions.DisambiguationError as e:\n",
        "            l1\u003d[]\n",
        "            l1\u003de.options\n",
        "            print (e.options)\n",
        "            choice\u003dint(input(\"enter the position for which you want the the wiki page(start from 1):\"))\n",
        "            print(choice)\n",
        "#             print(\"hi\",l1[choice])\n",
        "            word\u003dl1[choice-1];\n",
        "            print(word);\n",
        "            temp\u003dwikipedia.WikipediaPage(title\u003dword).summary"
      ]
    },
    {
      "cell_type": "code",
      "execution_count": null,
      "metadata": {
        "pycharm": {}
      },
      "outputs": [
        {
          "name": "stdout",
          "output_type": "stream",
          "text": [
            "model name\n",
            "display size\n",
            "hd technology \u0026 resolution\n",
            "3d\n",
            "[\u0027Three-dimensional space\u0027, \u00273-D computer graphics\u0027, \u00273-D film\u0027, \u00273-D modeling\u0027, \u00273-D printing\u0027, \u00273-D television\u0027, \u0027Stereoscopy\u0027, \u00273D projection\u0027, \u00273D rendering\u0027, \u00273D scanning\u0027, \u00273D video game (disambiguation)\u0027, \u00273-D Secure\u0027, \"Biela\u0027s Comet\", \u0027British Rail Class 207\u0027, \u0027Robert Del Naja\u0027, \u0027The 3Ds\u0027, \u00273D (Go West album)\u0027, \u00273D (The Three Degrees album)\u0027, \u00273-D (I See Stars album)\u0027, \u00273-D (SPC ECO album)\u0027, \u00273-D (TLC album)\u0027, \u00273-D (Wrathchild America album)\u0027, \u00273D Aerobatics\u0027, \u00273D (Long Island bus)\u0027, \u00273D Test of Antisemitism\u0027, \u0027Middle finger\u0027, \u0027Three-dimensional chess\u0027, \u0027Threepence (disambiguation)\u0027, \u00273ds (disambiguation)\u0027, \u0027D3 (disambiguation)\u0027, \u0027DDD (disambiguation)\u0027, \u0027All pages with titles beginning with 3D \u0027]\n",
            "enter the position for which you want the the wiki page(start from 1):6\n",
            "6\n",
            "3-D television\n",
            "smart tv\n",
            "curve tv\n",
            "series\n",
            "[\u0027Caroline Series\u0027, \u0027George Series\u0027, \u0027sets\u0027, \u0027Harmonic series (music)\u0027, \u0027Serialism\u0027, \u0027Anime series\u0027, \u0027Book series\u0027, \u0027Comic book series\u0027, \u0027Film series\u0027, \u0027Manga series\u0027, \u0027Podcast series\u0027, \u0027Radio series\u0027, \u0027Television series\u0027, \u0027television season\u0027, \u0027Video game series\u0027, \u0027Web series\u0027, \u0027Series (botany)\u0027, \u0027Series (mathematics)\u0027, \u0027Series (stratigraphy)\u0027, \u0027provenance in archival science\u0027, \u0027Seriation (archaeology)\u0027, \u0027Seriation (semiotics)\u0027, \u0027Series circuits\u0027, \u0027Series (United States currency)\u0027, \u0027competitive sports events\u0027, \u0027Land Rover Series\u0027, \u00271 series (disambiguation)\u0027, \u00273 series\u0027, \u00275 series\u0027, \u00277 series (disambiguation)\u0027, \u0027A series (disambiguation)\u0027, \u0027B series (disambiguation)\u0027, \u0027C series (disambiguation)\u0027, \u0027D series (disambiguation)\u0027, \u0027E series (disambiguation)\u0027, \u0027F series (disambiguation)\u0027, \u0027G series (disambiguation)\u0027, \u0027H series (disambiguation)\u0027, \u0027I series (disambiguation)\u0027, \u0027J series (disambiguation)\u0027, \u0027K series (disambiguation)\u0027, \u0027L series (disambiguation)\u0027, \u0027M series (disambiguation)\u0027, \u0027N series (disambiguation)\u0027, \u0027O series (disambiguation)\u0027, \u0027P series (disambiguation)\u0027, \u0027Q series (disambiguation)\u0027, \u0027R series (disambiguation)\u0027, \u0027S series (disambiguation)\u0027, \u0027T series (disambiguation)\u0027, \u0027U series (disambiguation)\u0027, \u0027V series (disambiguation)\u0027, \u0027W series (disambiguation)\u0027, \u0027X series (disambiguation)\u0027, \u0027Y series (disambiguation)\u0027, \u0027Z series (disambiguation)\u0027, \u00270 series (disambiguation)\u0027, \u0027Serial (literature)\u0027, \u0027Serial (radio and television)\u0027, \u0027Serie A (disambiguation)\u0027, \u0027Serie A2 (disambiguation)\u0027, \u0027Serie B (disambiguation)\u0027, \u0027Serie C\u0027, \u0027Serie D\u0027, \u0027Series A\u0027, \u0027Series B\u0027, \u0027World Series (disambiguation)\u0027, \u0027All pages with titles beginning with Series \u0027, \u0027All pages with titles containing Series\u0027]\n",
            "enter the position for which you want the the wiki page(start from 1):13\n",
            "13\n",
            "Television series\n",
            "touchscreen\n",
            "motion sensor\n",
            "wi-fi type\n",
            "built in wi-fi\n",
            "launch year\n",
            "3g dongle plug and play\n",
            "ethernet (rj45)\n",
            "other internet features\n",
            "nfc support\n",
            "contrast ratio\n",
            "digital tv reception\n",
            "view angle\n",
            "digital noise filter\n",
            "led display type\n",
            "other video features\n",
            "number of cores\n",
            "processor\n",
            "[\u0027Processor (computing)\u0027, \u0027Central processing unit\u0027, \u0027Microprocessor\u0027, \u0027Application-specific instruction set processor\u0027, \u0027Graphics processing unit\u0027, \u0027Physics processing unit\u0027, \u0027Digital signal processor\u0027, \u0027Image processor\u0027, \u0027Coprocessor\u0027, \u0027Floating-point unit\u0027, \u0027Network processor\u0027, \u0027Multi-core processor\u0027, \u0027Front-end processor\u0027, \u0027Word processor\u0027, \u0027Document processor\u0027, \u0027Information processor\u0027, \u0027Data processing system\u0027, \u0027Information system\u0027, \u0027Firewood processor\u0027, \u0027Food processor\u0027, \u0027All pages with titles containing processor\u0027, \u0027Process (disambiguation)\u0027, \u0027Data processing (disambiguation)\u0027]\n",
            "enter the position for which you want the the wiki page(start from 1):1\n",
            "1\n",
            "Processor (computing)\n",
            "ram capacity\n",
            "storage memory\n",
            "supported app - netflix\n",
            "supported app - youtube\n",
            "supported app - hotstar\n",
            "supported app - prime video\n",
            "supported mobile operating system\n",
            "operating system present\n",
            "screen mirroring\n",
            "app store type\n",
            "content providers\n",
            "content languages\n",
            "system languages\n",
            "number of speakers\n",
            "speaker type\n",
            "surround sound\n",
            "speaker output rms\n",
            "sound mode\n",
            "other audio features\n",
            "other convenience features\n",
            "power requirement\n",
            "power consumption\n",
            "touch remote\n",
            "smart remote\n",
            "rf capable\n",
            "internet access\n",
            "width x height x depth (without stand)\n",
            "weight (without stand)\n",
            "width x height x depth (with stand)\n",
            "weight (with stand)\n",
            "stand type\n",
            "warranty summary\n",
            "headphone jack\n",
            "other connectivity features\n",
            "brightness\n",
            "picture engine\n",
            "picture in picture (pip)\n",
            "panel type\n",
            "supported video formats\n",
            "graphic processor\n",
            "supported app - others\n",
            "supported devices for casting\n",
            "sound technology\n",
            "supported audio formats\n",
            "clock\n",
            "auto power off\n",
            "sleep timer\n",
            "on/off timer\n",
            "other power features\n",
            "battery type\n",
            "remote charger\n",
            "other remote control features\n",
            "color\n",
            "mobile high-definition link\n",
            "component in (rgb cable)\n",
            "composite in (audio video cable)\n",
            "pc audio in\n",
            "pc d-sub\n",
            "digital audio output\n",
            "audio out\n",
            "rf connectivity input\n",
            "analog audio input\n",
            "picture and picture (pap)\n",
            "graphic user interface\n",
            "clocking speed\n",
            "pre installed browser\n",
            "number of subwoofers\n",
            "child lock\n",
            "color screen\n",
            "ir capable\n"
          ]
        }
      ],
      "source": [
        "wiki_wiki \u003d wiki.Wikipedia(\u0027en\u0027)\n",
        "f\u003dcodecs.open(\"database_new_word.txt\",\"a+\",encoding\u003d\u0027utf8\u0027)\n",
        "for key in sub_new:\n",
        "    print(key)\n",
        "    page_py \u003d wiki_wiki.page(key)\n",
        "    if page_py.exists():\n",
        "        try:\n",
        "            temp\u003dwikipedia.WikipediaPage(title\u003dkey).summary\n",
        "            f.write(temp)\n",
        "        except wikipedia.exceptions.DisambiguationError as e:\n",
        "            l1\u003d[]\n",
        "            l1\u003de.options\n",
        "            print (e.options)\n",
        "            choice\u003dint(input(\"enter the position for which you want the the wiki page(start from 1):\"))\n",
        "            print(choice)\n",
        "#             print(\"hi\",l1[choice])\n",
        "            word\u003dl1[choice-1];\n",
        "            print(word);\n",
        "            temp\u003dwikipedia.WikipediaPage(title\u003dword).summary"
      ]
    },
    {
      "cell_type": "code",
      "execution_count": null,
      "metadata": {
        "pycharm": {}
      },
      "outputs": [],
      "source": []
    },
    {
      "cell_type": "code",
      "execution_count": null,
      "metadata": {
        "pycharm": {}
      },
      "outputs": [],
      "source": []
    }
  ],
  "metadata": {
    "kernelspec": {
      "display_name": "Python 3",
      "language": "python",
      "name": "python3"
    },
    "language_info": {
      "codemirror_mode": {
        "name": "ipython",
        "version": 3
      },
      "file_extension": ".py",
      "mimetype": "text/x-python",
      "name": "python",
      "nbconvert_exporter": "python",
      "pygments_lexer": "ipython3",
      "version": "3.7.1"
    }
  },
  "nbformat": 4,
  "nbformat_minor": 2
}