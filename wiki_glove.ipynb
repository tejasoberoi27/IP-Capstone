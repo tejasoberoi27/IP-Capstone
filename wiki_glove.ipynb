{
  "nbformat": 4,
  "nbformat_minor": 0,
  "metadata": {
    "colab": {
      "name": "wiki_glove.ipynb",
      "provenance": [],
      "collapsed_sections": []
    },
    "kernelspec": {
      "name": "python3",
      "display_name": "Python 3"
    },
    "accelerator": "GPU"
  },
  "cells": [
    {
      "cell_type": "code",
      "metadata": {
        "id": "f2vCdgYJeUed",
        "colab_type": "code",
        "colab": {
          "base_uri": "https://localhost:8080/",
          "height": 34
        },
        "outputId": "1acbc32c-a58c-4d99-c20e-771094881419"
      },
      "source": [
        "'''Applies glove to wiki database '''"
      ],
      "execution_count": 6,
      "outputs": [
        {
          "output_type": "execute_result",
          "data": {
            "text/plain": [
              "'Applies glove to wiki database '"
            ]
          },
          "metadata": {
            "tags": []
          },
          "execution_count": 6
        }
      ]
    },
    {
      "cell_type": "code",
      "metadata": {
        "id": "r417Ot0llpbv",
        "colab_type": "code",
        "colab": {
          "base_uri": "https://localhost:8080/",
          "height": 314
        },
        "outputId": "1be61715-5eb0-49e8-fb62-d2256d1fe6f9"
      },
      "source": [
        "!pip install numpy\n",
        "!pip install scipy\n",
        "!pip install matplotlib\n",
        "!pip install sklearn"
      ],
      "execution_count": 8,
      "outputs": [
        {
          "output_type": "stream",
          "text": [
            "Requirement already satisfied: numpy in /usr/local/lib/python3.6/dist-packages (1.17.4)\n",
            "Requirement already satisfied: scipy in /usr/local/lib/python3.6/dist-packages (1.3.3)\n",
            "Requirement already satisfied: numpy>=1.13.3 in /usr/local/lib/python3.6/dist-packages (from scipy) (1.17.4)\n",
            "Requirement already satisfied: matplotlib in /usr/local/lib/python3.6/dist-packages (3.1.2)\n",
            "Requirement already satisfied: pyparsing!=2.0.4,!=2.1.2,!=2.1.6,>=2.0.1 in /usr/local/lib/python3.6/dist-packages (from matplotlib) (2.4.5)\n",
            "Requirement already satisfied: numpy>=1.11 in /usr/local/lib/python3.6/dist-packages (from matplotlib) (1.17.4)\n",
            "Requirement already satisfied: kiwisolver>=1.0.1 in /usr/local/lib/python3.6/dist-packages (from matplotlib) (1.1.0)\n",
            "Requirement already satisfied: python-dateutil>=2.1 in /usr/local/lib/python3.6/dist-packages (from matplotlib) (2.6.1)\n",
            "Requirement already satisfied: cycler>=0.10 in /usr/local/lib/python3.6/dist-packages (from matplotlib) (0.10.0)\n",
            "Requirement already satisfied: setuptools in /usr/local/lib/python3.6/dist-packages (from kiwisolver>=1.0.1->matplotlib) (42.0.1)\n",
            "Requirement already satisfied: six>=1.5 in /usr/local/lib/python3.6/dist-packages (from python-dateutil>=2.1->matplotlib) (1.12.0)\n",
            "Requirement already satisfied: sklearn in /usr/local/lib/python3.6/dist-packages (0.0)\n",
            "Requirement already satisfied: scikit-learn in /usr/local/lib/python3.6/dist-packages (from sklearn) (0.21.3)\n",
            "Requirement already satisfied: scipy>=0.17.0 in /usr/local/lib/python3.6/dist-packages (from scikit-learn->sklearn) (1.3.3)\n",
            "Requirement already satisfied: joblib>=0.11 in /usr/local/lib/python3.6/dist-packages (from scikit-learn->sklearn) (0.14.0)\n",
            "Requirement already satisfied: numpy>=1.11.0 in /usr/local/lib/python3.6/dist-packages (from scikit-learn->sklearn) (1.17.4)\n"
          ],
          "name": "stdout"
        }
      ]
    },
    {
      "cell_type": "code",
      "metadata": {
        "id": "Xo1CxojMkLEC",
        "colab_type": "code",
        "colab": {
          "base_uri": "https://localhost:8080/",
          "height": 332
        },
        "outputId": "dfda2522-9c04-499d-b86a-10df53e8390b"
      },
      "source": [
        "!pip install glove_python\n",
        "# !pip3 install https://github.com/JonathanRaiman/glove/archive/master.zip\n",
        "# !pip3 install https://github.com/JonathanRaiman/glove/archive/master.zip`\n"
      ],
      "execution_count": 40,
      "outputs": [
        {
          "output_type": "stream",
          "text": [
            "Collecting glove_python\n",
            "\u001b[?25l  Downloading https://files.pythonhosted.org/packages/3e/79/7e7e548dd9dcb741935d031117f4bed133276c2a047aadad42f1552d1771/glove_python-0.1.0.tar.gz (263kB)\n",
            "\r\u001b[K     |█▎                              | 10kB 20.4MB/s eta 0:00:01\r\u001b[K     |██▌                             | 20kB 4.3MB/s eta 0:00:01\r\u001b[K     |███▊                            | 30kB 6.0MB/s eta 0:00:01\r\u001b[K     |█████                           | 40kB 7.7MB/s eta 0:00:01\r\u001b[K     |██████▎                         | 51kB 5.0MB/s eta 0:00:01\r\u001b[K     |███████▌                        | 61kB 5.9MB/s eta 0:00:01\r\u001b[K     |████████▊                       | 71kB 6.7MB/s eta 0:00:01\r\u001b[K     |██████████                      | 81kB 7.5MB/s eta 0:00:01\r\u001b[K     |███████████▏                    | 92kB 8.2MB/s eta 0:00:01\r\u001b[K     |████████████▌                   | 102kB 6.5MB/s eta 0:00:01\r\u001b[K     |█████████████▊                  | 112kB 6.5MB/s eta 0:00:01\r\u001b[K     |███████████████                 | 122kB 6.5MB/s eta 0:00:01\r\u001b[K     |████████████████▏               | 133kB 6.5MB/s eta 0:00:01\r\u001b[K     |█████████████████▍              | 143kB 6.5MB/s eta 0:00:01\r\u001b[K     |██████████████████▊             | 153kB 6.5MB/s eta 0:00:01\r\u001b[K     |████████████████████            | 163kB 6.5MB/s eta 0:00:01\r\u001b[K     |█████████████████████▏          | 174kB 6.5MB/s eta 0:00:01\r\u001b[K     |██████████████████████▍         | 184kB 6.5MB/s eta 0:00:01\r\u001b[K     |███████████████████████▋        | 194kB 6.5MB/s eta 0:00:01\r\u001b[K     |█████████████████████████       | 204kB 6.5MB/s eta 0:00:01\r\u001b[K     |██████████████████████████▏     | 215kB 6.5MB/s eta 0:00:01\r\u001b[K     |███████████████████████████▍    | 225kB 6.5MB/s eta 0:00:01\r\u001b[K     |████████████████████████████▋   | 235kB 6.5MB/s eta 0:00:01\r\u001b[K     |█████████████████████████████▉  | 245kB 6.5MB/s eta 0:00:01\r\u001b[K     |███████████████████████████████▏| 256kB 6.5MB/s eta 0:00:01\r\u001b[K     |████████████████████████████████| 266kB 6.5MB/s \n",
            "\u001b[?25hRequirement already satisfied: numpy in /usr/local/lib/python3.6/dist-packages (from glove_python) (1.17.4)\n",
            "Requirement already satisfied: scipy in /usr/local/lib/python3.6/dist-packages (from glove_python) (1.3.3)\n",
            "Building wheels for collected packages: glove-python\n",
            "  Building wheel for glove-python (setup.py) ... \u001b[?25l\u001b[?25hdone\n",
            "  Created wheel for glove-python: filename=glove_python-0.1.0-cp36-cp36m-linux_x86_64.whl size=700340 sha256=616f2ee4ac87f9172c893d226815f6835c277e9fcf113adf649a3397cf4062ce\n",
            "  Stored in directory: /root/.cache/pip/wheels/88/4b/6d/10c0d2ad32c9d9d68beec9694a6f0b6e83ab1662a90a089a4b\n",
            "Successfully built glove-python\n",
            "Installing collected packages: glove-python\n",
            "Successfully installed glove-python-0.1.0\n"
          ],
          "name": "stdout"
        },
        {
          "output_type": "display_data",
          "data": {
            "application/vnd.colab-display-data+json": {
              "pip_warning": {
                "packages": [
                  "glove"
                ]
              }
            }
          },
          "metadata": {
            "tags": []
          }
        }
      ]
    },
    {
      "cell_type": "code",
      "metadata": {
        "id": "b1UON6WQn10a",
        "colab_type": "code",
        "colab": {
          "base_uri": "https://localhost:8080/",
          "height": 54
        },
        "outputId": "8f6d4ae9-a03a-430f-85a4-46df3e9b7a4d"
      },
      "source": [
        "from google.colab import drive\n",
        "drive.mount('/content/drive')"
      ],
      "execution_count": 1,
      "outputs": [
        {
          "output_type": "stream",
          "text": [
            "Drive already mounted at /content/drive; to attempt to forcibly remount, call drive.mount(\"/content/drive\", force_remount=True).\n"
          ],
          "name": "stdout"
        }
      ]
    },
    {
      "cell_type": "code",
      "metadata": {
        "id": "5Frdhy2GvnuR",
        "colab_type": "code",
        "colab": {
          "base_uri": "https://localhost:8080/",
          "height": 51
        },
        "outputId": "cc222bbf-336c-4795-eb83-1a51e66589a7"
      },
      "source": [
        "from sklearn.metrics.pairwise import cosine_similarity\n",
        "import os\n",
        "import pickle\n",
        "from glove import Glove,Corpus\n",
        "from scipy import spatial\n",
        "import nltk\n",
        "nltk.download('wordnet')\n",
        "from nltk.stem import WordNetLemmatizer\n",
        "from nltk.corpus import stopwords as sw\n",
        "import nltk,string\n",
        "from nltk.tokenize import word_tokenize\n"
      ],
      "execution_count": 46,
      "outputs": [
        {
          "output_type": "stream",
          "text": [
            "[nltk_data] Downloading package wordnet to /root/nltk_data...\n",
            "[nltk_data]   Unzipping corpora/wordnet.zip.\n"
          ],
          "name": "stdout"
        }
      ]
    },
    {
      "cell_type": "code",
      "metadata": {
        "id": "QcxHGwRfqNz9",
        "colab_type": "code",
        "colab": {
          "base_uri": "https://localhost:8080/",
          "height": 34
        },
        "outputId": "8317ddf3-abfd-4e32-eea6-d47fbcb8d608"
      },
      "source": [
        "print(os.getcwd())\n",
        "os.chdir(r'/content/sample_data')"
      ],
      "execution_count": 2,
      "outputs": [
        {
          "output_type": "stream",
          "text": [
            "/content\n"
          ],
          "name": "stdout"
        }
      ]
    },
    {
      "cell_type": "code",
      "metadata": {
        "id": "7nUzM7Owvmcn",
        "colab_type": "code",
        "colab": {}
      },
      "source": [
        ""
      ],
      "execution_count": 0,
      "outputs": []
    },
    {
      "cell_type": "code",
      "metadata": {
        "id": "O1bvdiNKomA1",
        "colab_type": "code",
        "colab": {}
      },
      "source": [
        "def load_data(filename):\n",
        "  # open a file, where you stored the pickled data\n",
        "  file = open(filename, 'rb')\n",
        "  # dump information to that file\n",
        "  data = pickle.load(file)\n",
        "\n",
        "  # close the file\n",
        "  file.close()\n",
        "  return data\n",
        "  # print('Showing the pickled data:')\n"
      ],
      "execution_count": 0,
      "outputs": []
    },
    {
      "cell_type": "code",
      "metadata": {
        "id": "Ij9PU0g4lqMj",
        "colab_type": "code",
        "colab": {
          "base_uri": "https://localhost:8080/",
          "height": 554
        },
        "outputId": "8ff1c8df-68da-4d52-9225-d7a5c0aa0c47"
      },
      "source": [
        "#importing the glove library\n",
        "# import glove.corpus\n",
        "# creating a corpus object\n",
        "corpus = Corpus() \n",
        "#training the corpus to generate the co occurence matrix which is used in GloVe\n",
        "lines = load_data('array_glove')\n",
        "# print(lines)\n",
        "corpus.fit(lines, window=10)\n",
        "#creating a Glove object which will use the matrix created in the above lines to create embeddings\n",
        "#We can set the learning rate as it uses Gradient Descent and number of components\n",
        "glove = Glove(no_components=5, learning_rate=0.05)\n",
        " \n",
        "glove.fit(corpus.matrix, epochs=30, no_threads=4, verbose=True)\n",
        "glove.add_dictionary(corpus.dictionary)\n",
        "glove.save('glove.model')"
      ],
      "execution_count": 4,
      "outputs": [
        {
          "output_type": "stream",
          "text": [
            "Performing 30 training epochs with 4 threads\n",
            "Epoch 0\n",
            "Epoch 1\n",
            "Epoch 2\n",
            "Epoch 3\n",
            "Epoch 4\n",
            "Epoch 5\n",
            "Epoch 6\n",
            "Epoch 7\n",
            "Epoch 8\n",
            "Epoch 9\n",
            "Epoch 10\n",
            "Epoch 11\n",
            "Epoch 12\n",
            "Epoch 13\n",
            "Epoch 14\n",
            "Epoch 15\n",
            "Epoch 16\n",
            "Epoch 17\n",
            "Epoch 18\n",
            "Epoch 19\n",
            "Epoch 20\n",
            "Epoch 21\n",
            "Epoch 22\n",
            "Epoch 23\n",
            "Epoch 24\n",
            "Epoch 25\n",
            "Epoch 26\n",
            "Epoch 27\n",
            "Epoch 28\n",
            "Epoch 29\n"
          ],
          "name": "stdout"
        }
      ]
    },
    {
      "cell_type": "code",
      "metadata": {
        "id": "ZQq5qp1vt6ry",
        "colab_type": "code",
        "colab": {}
      },
      "source": [
        "glove.add_dictionary(corpus.dictionary)\n"
      ],
      "execution_count": 0,
      "outputs": []
    },
    {
      "cell_type": "code",
      "metadata": {
        "id": "HRstI3t3vx_A",
        "colab_type": "code",
        "colab": {}
      },
      "source": [
        "import numpy as np\n",
        "def lemmatize(token)  :\n",
        "    lemmatizer = WordNetLemmatizer() \n",
        "    # tokens = [lemmatizer.lemmatize(w) for w in tokens]\n",
        "    return lemmatizer.lemmatize(token)\n",
        "\n",
        "def get_vec(w):\n",
        "    #get glove_vector for word w\n",
        "    return glove.word_vectors[glove.dictionary[lemmatize(w)]]\n",
        "\n",
        "def find_sim(w1,w2):\n",
        "    # finds cosine similarity between words w1 and w2\n",
        "    w_1,w_2 = (get_vec(w1),get_vec(w2))\n",
        "    result = find_cosine(w_1,w_2)\n",
        "    return result\n",
        "\n",
        "def find_cosine(v1,v2):\n",
        "    #finds cosine similarity between glove_vectors v1 and v2\n",
        "    return 1 - spatial.distance.cosine(v1, v2)\n",
        "\n",
        "def most_similar(w):\n",
        "    lemma =  lemmatize(w)  \n",
        "    print('lemma',lemma)\n",
        "    return glove.most_similar(lemma)\n",
        "\n",
        "def sum_vecs(words):\n",
        "    #returns sum of glove_vectors of words in list of words,'words'\n",
        "    words = words.split()\n",
        "    print('w',words)\n",
        "    sum = np.zeros(glove.word_vectors[glove.dictionary[words[0]]].shape)\n",
        "    for w in words:\n",
        "      sum+=glove.word_vectors[glove.dictionary[w]]\n",
        "    return sum"
      ],
      "execution_count": 0,
      "outputs": []
    },
    {
      "cell_type": "code",
      "metadata": {
        "id": "-ZqqdIGh7ybZ",
        "colab_type": "code",
        "colab": {}
      },
      "source": [
        ""
      ],
      "execution_count": 0,
      "outputs": []
    },
    {
      "cell_type": "code",
      "metadata": {
        "id": "dljdBbM5u3j4",
        "colab_type": "code",
        "colab": {
          "base_uri": "https://localhost:8080/",
          "height": 210
        },
        "outputId": "39800c47-bd23-44c4-b2d7-9d11c3f98d2a"
      },
      "source": [
        "# print (glove.word_vectors[glove.dictionary['hdmi']])\n",
        "# print(glove.word_vectors[glove.dictionary['display']])\n",
        "print(glove.most_similar('hdmi'))\n",
        "print(find_sim('aspect','ratio'))\n",
        "print(find_sim('brightness','resolution'))\n",
        "print(find_sim('hd','hd'))\n",
        "# print(find_sim(('brightness','luminance'))\n",
        "# print(find_sim('screen','type'))\n",
        "# print(glove.most_similar('brightness'))\n",
        "print(most_similar('brightness'))\n",
        "s1 = sum_vecs('refresh rate')\n",
        "print(find_cosine(s1,get_vec('refresh')))\n",
        "print(find_cosine(get_vec('usb'),sum_vecs('operating system')))\n",
        "# print(glove.most_similar('hd'))\n",
        "# print(cosine_similarity(glove.word_vectors[glove.dictionary['hdmi']],glove.word_vectors[glove.dictionary['hdmi']]))"
      ],
      "execution_count": 76,
      "outputs": [
        {
          "output_type": "stream",
          "text": [
            "[('near', 0.9833362822032082), ('computer', 0.9648708346606838), ('distinctive', 0.9610485863200404), ('loudspeaker', 0.9583629368855834)]\n",
            "0.9333262674854832\n",
            "0.12211014262812414\n",
            "1.0\n",
            "lemma brightness\n",
            "[('loyalty', 0.9795739919854846), ('camcorder', 0.970696517804208), ('suggests', 0.9538111153436498), ('address', 0.9501558891869587)]\n",
            "w ['refresh', 'rate']\n",
            "0.9994712163489953\n",
            "w ['operating', 'system']\n",
            "0.6830287914998893\n"
          ],
          "name": "stdout"
        }
      ]
    }
  ]
}